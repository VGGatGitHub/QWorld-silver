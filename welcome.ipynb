{
  "nbformat": 4,
  "nbformat_minor": 0,
  "metadata": {
    "kernelspec": {
      "display_name": "Python 3",
      "language": "python",
      "name": "python3"
    },
    "language_info": {
      "codemirror_mode": {
        "name": "ipython",
        "version": 3
      },
      "file_extension": ".py",
      "mimetype": "text/x-python",
      "name": "python",
      "nbconvert_exporter": "python",
      "pygments_lexer": "ipython3",
      "version": "3.7.3"
    },
    "colab": {
      "name": "welcome.ipynb",
      "provenance": []
    }
  },
  "cells": [
    {
      "cell_type": "markdown",
      "metadata": {
        "id": "1mlopWdtaMTT"
      },
      "source": [
        "<table width=\"100%\"><tr style=\"background-color:white;\">\n",
        "    <td style=\"text-align:left;padding:0px;width:142px'\">\n",
        "        <a href=\"https://qworld.net\" target=\"_blank\">\n",
        "            <img src=\"https://github.com/VGGatGitHub/QWorld-silver/blob/master/qworld/images/QWorld.png?raw=1\"></a></td>\n",
        "    <td width=\"*\">&nbsp;&nbsp;&nbsp;&nbsp;&nbsp;&nbsp;</td>\n",
        "    <!-- ############################################# -->\n",
        "    <td style=\"padding:0px;width:90px;\">\n",
        "        <img align=\"right\" src=\"https://github.com/VGGatGitHub/QWorld-silver/blob/master/qworld/images/follow_us.png?raw=1\" height=\"40px\"></td>\n",
        "    <td style=\"padding:0px;width:40px;\">\n",
        "        <a href=\"https://twitter.com/QWorld19\" target=\"_blank\">\n",
        "        <img align=\"right\" src=\"https://github.com/VGGatGitHub/QWorld-silver/blob/master/qworld/images/Twitter.png?raw=1\" width=\"40px\"></a> </td>\n",
        "    <td style=\"padding:0px;width:5px;\"></td>\n",
        "    <td style=\"padding:0px;width:40px;\">\n",
        "        <a href=\"https://www.facebook.com/qworld19/\" target=\"_blank\">\n",
        "        <img align=\"right\" src=\"https://github.com/VGGatGitHub/QWorld-silver/blob/master/qworld/images/Fb.png?raw=1\"></a></td>\n",
        "    <td style=\"padding:0px;width:5px;\"></td>\n",
        "    <td style=\"padding:0px;width:40px;\">\n",
        "        <a href=\"https://www.linkedin.com/company/qworld19\" target=\"_blank\">\n",
        "        <img align=\"right\" src=\"https://github.com/VGGatGitHub/QWorld-silver/blob/master/qworld/images/LinkedIn.png?raw=1\"></a></td>\n",
        "    <td style=\"padding:0px;width:5px;\"></td>\n",
        "    <td style=\"padding:0px;width:40px;\">\n",
        "        <a href=\"https://youtube.com/QWorld19?sub_confirmation=1\" target=\"_blank\">\n",
        "        <img align=\"right\" src=\"https://github.com/VGGatGitHub/QWorld-silver/blob/master/qworld/images/YT.png?raw=1\"></a></td>\n",
        "    <!-- ############################################# -->\n",
        "    <td style=\"padding:0px;width:60px;\">\n",
        "        <img align=\"right\" src=\"https://github.com/VGGatGitHub/QWorld-silver/blob/master/qworld/images/join.png?raw=1\" height=\"40px\"></td>\n",
        "    <td style=\"padding:0px;width:40px;\">\n",
        "        <a href=\"https://discord.com/invite/akCvr7U87g\"\n",
        "           target=\"_blank\">\n",
        "        <img align=\"right\" src=\"https://github.com/VGGatGitHub/QWorld-silver/blob/master/qworld/images/Discord.png?raw=1\"></a></td>\n",
        "    <!-- ############################################# -->\n",
        "    <td style=\"padding:0px;width:72px;\">\n",
        "        <img align=\"right\" src=\"https://github.com/VGGatGitHub/QWorld-silver/blob/master/qworld/images/w3.png?raw=1\" height=\"40px\"></td>\n",
        "    <td style=\"padding:0px;width:40px;\">\n",
        "        <a href=\"https://qworld.net\" target=\"_blank\">\n",
        "        <img align=\"right\" src=\"https://github.com/VGGatGitHub/QWorld-silver/blob/master/qworld/images/www.png?raw=1\"></a></td>\n",
        "</tr></table>"
      ]
    },
    {
      "cell_type": "markdown",
      "metadata": {
        "id": "dbUr7gmPaMTc"
      },
      "source": [
        "<h1 align=\"center\" style=\"color: #A9A9A9;\"> Welcome to QWorld's Silver </h1>"
      ]
    },
    {
      "cell_type": "markdown",
      "metadata": {
        "id": "0U7QF-JRaMTd"
      },
      "source": [
        "<font style=\"color: #A9A9A9;size:+1;\"><b>Silver</b></font> is the continuation of our introductory material Bronze about the basics of quantum computation and quantum programming. It is a big collection of [Jupyter notebooks](https://jupyter.org).\n",
        "\n",
        "Silver can be used to organize two-day or three-day long workshops. In Silver, we introduce complex numbers as opposed to Bronze which only focuses at real numbers. \n",
        "\n",
        "*If you are using Jupyter notebooks for the first time, you can check our very short <a href=\"python/Python02_Into_Notebooks.ipynb\" target=\"_blank\">Introduction for Notebooks</a>.*\n",
        "\n",
        "**The open-source toolkits we are using:**\n",
        "- Programming language: <a href=\"https://www.python.org\" target=\"_blank\">python</a>\n",
        "- Quantum programming libraries:</u> <a href=\"https://qiskit.org\" target=\"_blank\">Qiskit</a>, <a href=\"http://docs.rigetti.com/en/stable/\" target=\"_blank\">pyQuil</a>, and <a href=\"https://github.com/quantumlib/Cirq\" target=\"_blank\">Cirq</a>"
      ]
    },
    {
      "cell_type": "code",
      "metadata": {
        "id": "2Fz0fWUgaOFj"
      },
      "source": [
        "!pip install qiskit\n",
        "!pip install qutip\n",
        "!pip install matplotlib\n",
        "!pip install pylatexenc\n",
        "\n",
        "!pip install cirq"
      ],
      "execution_count": null,
      "outputs": []
    },
    {
      "cell_type": "markdown",
      "metadata": {
        "id": "H3dIB2ERaMTd"
      },
      "source": [
        "<h3 align=\"right\"><a href=\"content.ipynb\" style=\"color:#A9A9A9;text-decoration:none;\">Proceed with the content page >></a></h3>"
      ]
    }
  ]
}